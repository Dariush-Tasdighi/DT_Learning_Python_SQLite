{
 "cells": [
  {
   "cell_type": "markdown",
   "metadata": {},
   "source": [
    "# Learning SQLite"
   ]
  },
  {
   "cell_type": "markdown",
   "metadata": {},
   "source": [
    "### Display Version"
   ]
  },
  {
   "cell_type": "code",
   "execution_count": 1,
   "metadata": {},
   "outputs": [
    {
     "name": "stdout",
     "output_type": "stream",
     "text": [
      "3.45.3\n",
      "(3, 45, 3)\n"
     ]
    }
   ],
   "source": [
    "import sqlite3\n",
    "\n",
    "print(sqlite3.sqlite_version)\n",
    "print(sqlite3.sqlite_version_info)"
   ]
  },
  {
   "cell_type": "markdown",
   "metadata": {},
   "source": [
    "### Create Database in Memory (In Memory Database)"
   ]
  },
  {
   "cell_type": "code",
   "execution_count": 2,
   "metadata": {},
   "outputs": [],
   "source": [
    "import sqlite3 as sqlite\n",
    "\n",
    "connection = sqlite.connect(database=\":memory:\")\n",
    "\n",
    "connection.close()"
   ]
  },
  {
   "cell_type": "markdown",
   "metadata": {},
   "source": [
    "### Create Database in File"
   ]
  },
  {
   "cell_type": "code",
   "execution_count": null,
   "metadata": {},
   "outputs": [],
   "source": [
    "import sqlite3 as sqlite\n",
    "\n",
    "database_pathfile = \"./data/temp_01.db\"\n",
    "connection = sqlite.connect(database=database_pathfile)\n",
    "\n",
    "connection.close()"
   ]
  },
  {
   "cell_type": "markdown",
   "metadata": {},
   "source": [
    "### Create Table"
   ]
  },
  {
   "cell_type": "code",
   "execution_count": null,
   "metadata": {},
   "outputs": [],
   "source": [
    "import sqlite3 as sqlite\n",
    "\n",
    "database_pathfile = \"./data/temp_02.db\"\n",
    "connection = sqlite.connect(database=database_pathfile)\n",
    "cursor = connection.cursor()\n",
    "\n",
    "query = \"CREATE TABLE Users (FullName);\"\n",
    "cursor.execute(query)\n",
    "connection.commit()\n",
    "\n",
    "cursor.close()\n",
    "connection.close()"
   ]
  },
  {
   "cell_type": "markdown",
   "metadata": {},
   "source": [
    "### Create Table (Best Practice)\n",
    "\n",
    "- If we run the below code more that once, We get some error!"
   ]
  },
  {
   "cell_type": "code",
   "execution_count": null,
   "metadata": {},
   "outputs": [
    {
     "ename": "OperationalError",
     "evalue": "table Users already exists",
     "output_type": "error",
     "traceback": [
      "\u001b[1;31m---------------------------------------------------------------------------\u001b[0m",
      "\u001b[1;31mOperationalError\u001b[0m                          Traceback (most recent call last)",
      "Cell \u001b[1;32mIn[8], line 14\u001b[0m\n\u001b[0;32m      5\u001b[0m cursor \u001b[38;5;241m=\u001b[39m connection\u001b[38;5;241m.\u001b[39mcursor()\n\u001b[0;32m      7\u001b[0m query \u001b[38;5;241m=\u001b[39m \u001b[38;5;124m\"\"\"\u001b[39m\n\u001b[0;32m      8\u001b[0m \u001b[38;5;124mCREATE TABLE Users(\u001b[39m\n\u001b[0;32m      9\u001b[0m \u001b[38;5;124m    Id        INT  PRIMARY KEY NOT NULL,\u001b[39m\n\u001b[1;32m   (...)\u001b[0m\n\u001b[0;32m     12\u001b[0m \u001b[38;5;124m    Age       INT              NOT NULL);\u001b[39m\n\u001b[0;32m     13\u001b[0m \u001b[38;5;124m\"\"\"\u001b[39m\n\u001b[1;32m---> 14\u001b[0m \u001b[43mcursor\u001b[49m\u001b[38;5;241;43m.\u001b[39;49m\u001b[43mexecute\u001b[49m\u001b[43m(\u001b[49m\u001b[43mquery\u001b[49m\u001b[43m)\u001b[49m\n\u001b[0;32m     15\u001b[0m connection\u001b[38;5;241m.\u001b[39mcommit()\n\u001b[0;32m     17\u001b[0m cursor\u001b[38;5;241m.\u001b[39mclose()\n",
      "\u001b[1;31mOperationalError\u001b[0m: table Users already exists"
     ]
    }
   ],
   "source": [
    "import sqlite3 as sqlite\n",
    "\n",
    "database_pathfile = \"./data/temp_03.db\"\n",
    "connection = sqlite.connect(database=database_pathfile)\n",
    "cursor = connection.cursor()\n",
    "\n",
    "query = \"\"\"\n",
    "CREATE TABLE Users (\n",
    "    Id        INT  PRIMARY KEY NOT NULL,\n",
    "    FirstName TEXT             NOT NULL,\n",
    "    LastName  TEXT             NOT NULL,\n",
    "    Age       INT              NOT NULL);\n",
    "\"\"\"\n",
    "cursor.execute(query)\n",
    "connection.commit()\n",
    "\n",
    "cursor.close()\n",
    "connection.close()"
   ]
  },
  {
   "cell_type": "markdown",
   "metadata": {},
   "source": [
    "### Error Handling is too Important!"
   ]
  },
  {
   "cell_type": "code",
   "execution_count": 7,
   "metadata": {},
   "outputs": [],
   "source": [
    "try:\n",
    "    pass\n",
    "except:\n",
    "    pass\n",
    "finally:\n",
    "    pass"
   ]
  },
  {
   "cell_type": "code",
   "execution_count": null,
   "metadata": {},
   "outputs": [],
   "source": [
    "import sqlite3 as sqlite\n",
    "\n",
    "try:\n",
    "    database_pathfile = \"./data/temp_04.db\"\n",
    "    connection = sqlite.connect(database=database_pathfile)\n",
    "    cursor = connection.cursor()\n",
    "\n",
    "    query = \"\"\"\n",
    "    CREATE TABLE Users (\n",
    "        Id INT PRIMARY KEY NOT NULL,\n",
    "        FirstName TEXT NOT NULL,\n",
    "        LastName  TEXT NOT NULL,\n",
    "        Age       INT  NOT NULL);\n",
    "    \"\"\"\n",
    "    cursor.execute(query)\n",
    "    connection.commit()\n",
    "except:\n",
    "    pass\n",
    "finally:\n",
    "    if cursor:\n",
    "        cursor.close()\n",
    "\n",
    "    if connection:\n",
    "        connection.close()"
   ]
  },
  {
   "cell_type": "markdown",
   "metadata": {},
   "source": [
    "### Create Record (Row)"
   ]
  },
  {
   "cell_type": "code",
   "execution_count": null,
   "metadata": {},
   "outputs": [
    {
     "name": "stdout",
     "output_type": "stream",
     "text": [
      "(1, 'Dariush', 'Tasdighi', 52)\n",
      "[(1, 'Dariush', 'Tasdighi', 52), (2, 'Ali Reza', 'Alavi', 40), (3, 'Sara', 'Ahmadi', 30)]\n",
      "[(1, 'Dariush', 'Tasdighi', 52), (2, 'Ali Reza', 'Alavi', 40)]\n"
     ]
    }
   ],
   "source": [
    "import sqlite3 as sqlite\n",
    "\n",
    "try:\n",
    "    database_pathfile = \"./data/temp_05.db\"\n",
    "    connection = sqlite.connect(database=database_pathfile)\n",
    "    cursor = connection.cursor()\n",
    "\n",
    "    # **************************************************\n",
    "    # New: IF NOT EXISTS\n",
    "    # **************************************************\n",
    "    query = \"\"\"\n",
    "    CREATE TABLE IF NOT EXISTS Users (\n",
    "        Id INT PRIMARY KEY NOT NULL,\n",
    "        FirstName TEXT NOT NULL,\n",
    "        LastName  TEXT NOT NULL,\n",
    "        Age       INT  NOT NULL);\n",
    "    \"\"\"\n",
    "    cursor.execute(query)\n",
    "    connection.commit()\n",
    "    # **************************************************\n",
    "\n",
    "    # **************************************************\n",
    "    query = \"INSERT INTO Users (Id, FirstName, LastName, Age) VALUES (1, 'Dariush', 'Tasdighi', 52)\"\n",
    "    cursor.execute(query)\n",
    "    connection.commit()\n",
    "\n",
    "    query = \"INSERT INTO Users (Id, LastName, Age, FirstName) VALUES (2, 'Alavi', 40, 'Ali')\"\n",
    "    cursor.execute(query)\n",
    "    connection.commit()\n",
    "\n",
    "    query = \"INSERT INTO Users VALUES (3, 'Sara', 'Ahmadi', 30)\"\n",
    "    cursor.execute(query)\n",
    "    connection.commit()\n",
    "    # **************************************************\n",
    "\n",
    "    # **************************************************\n",
    "    query = \"SELECT * FROM Users\"\n",
    "    cursor.execute(query)\n",
    "    user = cursor.fetchone()\n",
    "    print(user)\n",
    "    # **************************************************\n",
    "\n",
    "    # **************************************************\n",
    "    query = \"SELECT * FROM Users\"\n",
    "    cursor.execute(query)\n",
    "    users = cursor.fetchall()\n",
    "    print(users)\n",
    "    # **************************************************\n",
    "\n",
    "    # **************************************************\n",
    "    query = \"SELECT * FROM Users\"\n",
    "    cursor.execute(query)\n",
    "    users = cursor.fetchmany(size=2)\n",
    "    print(users)\n",
    "    # **************************************************\n",
    "except:\n",
    "    pass\n",
    "finally:\n",
    "    if cursor:\n",
    "        cursor.close()\n",
    "\n",
    "    if connection:\n",
    "        connection.close()"
   ]
  },
  {
   "cell_type": "markdown",
   "metadata": {},
   "source": [
    "### Create Record (Best Practice)"
   ]
  },
  {
   "cell_type": "code",
   "execution_count": 19,
   "metadata": {},
   "outputs": [
    {
     "name": "stdout",
     "output_type": "stream",
     "text": [
      "[(1, 'Dariush', 'Tasdighi', 52), (2, 'Ali', 'Alavi', 40), (3, 'Sara', 'Ahmadi', 30)]\n"
     ]
    }
   ],
   "source": [
    "import sqlite3 as sqlite\n",
    "\n",
    "try:\n",
    "    database_pathfile = \"./data/temp_06.db\"\n",
    "    connection = sqlite.connect(database=database_pathfile)\n",
    "    cursor = connection.cursor()\n",
    "\n",
    "    # **************************************************\n",
    "    query = \"\"\"\n",
    "    CREATE TABLE IF NOT EXISTS Users (\n",
    "        Id INT PRIMARY KEY NOT NULL,\n",
    "        FirstName TEXT NOT NULL,\n",
    "        LastName  TEXT NOT NULL,\n",
    "        Age       INT  NOT NULL);\n",
    "    \"\"\"\n",
    "    cursor.execute(query)\n",
    "    connection.commit()\n",
    "    # **************************************************\n",
    "\n",
    "    # **************************************************\n",
    "    # روش احمق‌ها - SQL Injection خطر\n",
    "    # **************************************************\n",
    "    id = 1\n",
    "    age = 52\n",
    "    first_name = \"Dariush\"\n",
    "    last_name = \"Tasdighi\"\n",
    "\n",
    "    query = f\"INSERT INTO Users VALUES ({id}, '{first_name}', '{last_name}', {age})\"\n",
    "    cursor.execute(query)\n",
    "    connection.commit()\n",
    "    # **************************************************\n",
    "\n",
    "    # **************************************************\n",
    "    # Best Practice\n",
    "    # **************************************************\n",
    "    id = 2\n",
    "    age = 40\n",
    "    first_name = \"Ali\"\n",
    "    last_name = \"Alavi\"\n",
    "\n",
    "    query = \"INSERT INTO Users VALUES (?, ?, ?, ?)\"\n",
    "    # Tuple\n",
    "    values = (id, first_name, last_name, age)\n",
    "\n",
    "    cursor.execute(query, values)\n",
    "    connection.commit()\n",
    "    # **************************************************\n",
    "\n",
    "    # **************************************************\n",
    "    # Best Practice\n",
    "    # **************************************************\n",
    "    id = 3\n",
    "    age = 30\n",
    "    first_name = \"Sara\"\n",
    "    last_name = \"Ahmadi\"\n",
    "\n",
    "    query = \"INSERT INTO Users VALUES (:id, :first_name, :last_name, :age)\"\n",
    "    # Dictionary\n",
    "    values = {\"id\": id, \"first_name\": first_name, \"last_name\": last_name, \"age\": age}\n",
    "\n",
    "    cursor.execute(query, values)\n",
    "    connection.commit()\n",
    "    # **************************************************\n",
    "\n",
    "    # **************************************************\n",
    "    query = \"SELECT * FROM Users\"\n",
    "    cursor.execute(query)\n",
    "    users = cursor.fetchall()\n",
    "    print(users)\n",
    "    # **************************************************\n",
    "except:\n",
    "    pass\n",
    "finally:\n",
    "    if cursor:\n",
    "        cursor.close()\n",
    "\n",
    "    if connection:\n",
    "        connection.close()"
   ]
  },
  {
   "cell_type": "markdown",
   "metadata": {},
   "source": [
    "### Batch Create"
   ]
  },
  {
   "cell_type": "code",
   "execution_count": 20,
   "metadata": {},
   "outputs": [
    {
     "name": "stdout",
     "output_type": "stream",
     "text": [
      "[(11, 'First Name 1', 'Last Name 1', 21), (12, 'First Name 2', 'Last Name 2', 22), (13, 'First Name 3', 'Last Name 3', 23), (14, 'First Name 4', 'Last Name 4', 24), (15, 'First Name 5', 'Last Name 5', 25), (16, 'First Name 6', 'Last Name 6', 26), (17, 'First Name 7', 'Last Name 7', 27), (18, 'First Name 8', 'Last Name 8', 28), (19, 'First Name 9', 'Last Name 9', 29)]\n"
     ]
    }
   ],
   "source": [
    "import sqlite3 as sqlite\n",
    "\n",
    "try:\n",
    "    database_pathfile = \"./data/temp_07.db\"\n",
    "    connection = sqlite.connect(database=database_pathfile)\n",
    "    cursor = connection.cursor()\n",
    "\n",
    "    # **************************************************\n",
    "    query = \"\"\"\n",
    "    CREATE TABLE IF NOT EXISTS Users (\n",
    "        Id INT PRIMARY KEY NOT NULL,\n",
    "        FirstName TEXT NOT NULL,\n",
    "        LastName  TEXT NOT NULL,\n",
    "        Age       INT  NOT NULL);\n",
    "    \"\"\"\n",
    "    cursor.execute(query)\n",
    "    connection.commit()\n",
    "    # **************************************************\n",
    "\n",
    "    # **************************************************\n",
    "    values = [\n",
    "        (11, \"First Name 1\", \"Last Name 1\", 21),\n",
    "        (12, \"First Name 2\", \"Last Name 2\", 22),\n",
    "        (13, \"First Name 3\", \"Last Name 3\", 23),\n",
    "        (14, \"First Name 4\", \"Last Name 4\", 24),\n",
    "        (15, \"First Name 5\", \"Last Name 5\", 25),\n",
    "        (16, \"First Name 6\", \"Last Name 6\", 26),\n",
    "        (17, \"First Name 7\", \"Last Name 7\", 27),\n",
    "        (18, \"First Name 8\", \"Last Name 8\", 28),\n",
    "        (19, \"First Name 9\", \"Last Name 9\", 29),\n",
    "    ]\n",
    "    # **************************************************\n",
    "\n",
    "    # **************************************************\n",
    "    query = f\"INSERT INTO Users VALUES (?, ?, ?, ?)\"\n",
    "    cursor.executemany(query, values)\n",
    "    connection.commit()\n",
    "    # **************************************************\n",
    "\n",
    "    # **************************************************\n",
    "    query = \"SELECT * FROM Users\"\n",
    "    cursor.execute(query)\n",
    "    users = cursor.fetchall()\n",
    "    print(users)\n",
    "    # **************************************************\n",
    "except:\n",
    "    pass\n",
    "finally:\n",
    "    if cursor:\n",
    "        cursor.close()\n",
    "\n",
    "    if connection:\n",
    "        connection.close()"
   ]
  },
  {
   "cell_type": "code",
   "execution_count": 21,
   "metadata": {},
   "outputs": [
    {
     "name": "stdout",
     "output_type": "stream",
     "text": [
      "[(11, 'First Name 1', 'Last Name 1', 21), (12, 'First Name 2', 'Last Name 2', 22), (13, 'First Name 3', 'Last Name 3', 23), (14, 'First Name 4', 'Last Name 4', 24), (15, 'First Name 5', 'Last Name 5', 25), (16, 'First Name 6', 'Last Name 6', 26), (17, 'First Name 7', 'Last Name 7', 27), (18, 'First Name 8', 'Last Name 8', 28), (19, 'First Name 9', 'Last Name 9', 29)]\n"
     ]
    }
   ],
   "source": [
    "import sqlite3 as sqlite\n",
    "\n",
    "try:\n",
    "    database_pathfile = \"./data/temp_08.db\"\n",
    "    connection = sqlite.connect(database=database_pathfile)\n",
    "    cursor = connection.cursor()\n",
    "\n",
    "    # **************************************************\n",
    "    query = \"\"\"\n",
    "    CREATE TABLE IF NOT EXISTS Users (\n",
    "        Id INT PRIMARY KEY NOT NULL,\n",
    "        FirstName TEXT NOT NULL,\n",
    "        LastName  TEXT NOT NULL,\n",
    "        Age       INT  NOT NULL);\n",
    "    \"\"\"\n",
    "    cursor.execute(query)\n",
    "    connection.commit()\n",
    "    # **************************************************\n",
    "\n",
    "    # **************************************************\n",
    "    values = [\n",
    "        {\"Id\": 11, \"FirstName\": \"First Name 1\", \"LastName\": \"Last Name 1\", \"Age\": 21},\n",
    "        {\"Id\": 12, \"FirstName\": \"First Name 2\", \"LastName\": \"Last Name 2\", \"Age\": 22},\n",
    "        {\"Id\": 13, \"FirstName\": \"First Name 3\", \"LastName\": \"Last Name 3\", \"Age\": 23},\n",
    "        {\"Id\": 14, \"FirstName\": \"First Name 4\", \"LastName\": \"Last Name 4\", \"Age\": 24},\n",
    "        {\"Id\": 15, \"FirstName\": \"First Name 5\", \"LastName\": \"Last Name 5\", \"Age\": 25},\n",
    "        {\"Id\": 16, \"FirstName\": \"First Name 6\", \"LastName\": \"Last Name 6\", \"Age\": 26},\n",
    "        {\"Id\": 17, \"FirstName\": \"First Name 7\", \"LastName\": \"Last Name 7\", \"Age\": 27},\n",
    "        {\"Id\": 18, \"FirstName\": \"First Name 8\", \"LastName\": \"Last Name 8\", \"Age\": 28},\n",
    "        {\"Id\": 19, \"FirstName\": \"First Name 9\", \"LastName\": \"Last Name 9\", \"Age\": 29},\n",
    "    ]\n",
    "    # **************************************************\n",
    "\n",
    "    # **************************************************\n",
    "    query = f\"INSERT INTO Users VALUES (:Id, :FirstName, :LastName, :Age)\"\n",
    "    cursor.executemany(query, values)\n",
    "    connection.commit()\n",
    "    # **************************************************\n",
    "\n",
    "    # **************************************************\n",
    "    query = \"SELECT * FROM Users\"\n",
    "    cursor.execute(query)\n",
    "    users = cursor.fetchall()\n",
    "    print(users)\n",
    "    # **************************************************\n",
    "except:\n",
    "    pass\n",
    "finally:\n",
    "    if cursor:\n",
    "        cursor.close()\n",
    "\n",
    "    if connection:\n",
    "        connection.close()"
   ]
  },
  {
   "cell_type": "markdown",
   "metadata": {},
   "source": [
    "### Some SELECT Samples"
   ]
  },
  {
   "cell_type": "code",
   "execution_count": 28,
   "metadata": {},
   "outputs": [
    {
     "name": "stdout",
     "output_type": "stream",
     "text": [
      "[(11, 'First Name 1', 'Last Name 1', 21), (12, 'First Name 2', 'Last Name 2', 22), (13, 'First Name 3', 'Last Name 3', 23), (14, 'First Name 4', 'Last Name 4', 24), (15, 'First Name 5', 'Last Name 5', 25), (16, 'First Name 6', 'Last Name 6', 26), (17, 'First Name 7', 'Last Name 7', 27), (18, 'First Name 8', 'Last Name 8', 28), (19, 'First Name 9', 'Last Name 9', 29)]\n",
      "--------------------------------------------------\n",
      "[('First Name 1', 'Last Name 1'), ('First Name 2', 'Last Name 2'), ('First Name 3', 'Last Name 3'), ('First Name 4', 'Last Name 4'), ('First Name 5', 'Last Name 5'), ('First Name 6', 'Last Name 6'), ('First Name 7', 'Last Name 7'), ('First Name 8', 'Last Name 8'), ('First Name 9', 'Last Name 9')]\n",
      "--------------------------------------------------\n",
      "[(18, 'First Name 8', 'Last Name 8', 28), (19, 'First Name 9', 'Last Name 9', 29)]\n",
      "--------------------------------------------------\n",
      "[(19, 'First Name 9', 'Last Name 9', 29), (18, 'First Name 8', 'Last Name 8', 28)]\n",
      "--------------------------------------------------\n",
      "[(1, 11, 'First Name 1', 'Last Name 1', 21), (2, 12, 'First Name 2', 'Last Name 2', 22), (3, 13, 'First Name 3', 'Last Name 3', 23)]\n"
     ]
    }
   ],
   "source": [
    "import sqlite3 as sqlite\n",
    "\n",
    "try:\n",
    "    database_pathfile = \"./data/temp_08.db\"\n",
    "    connection = sqlite.connect(database=database_pathfile)\n",
    "    cursor = connection.cursor()\n",
    "\n",
    "    # **************************************************\n",
    "    query = \"SELECT * FROM Users;\"\n",
    "    cursor.execute(query)\n",
    "    users = cursor.fetchall()\n",
    "    print(users)\n",
    "    # **************************************************\n",
    "\n",
    "    print(\"-\" * 50)\n",
    "\n",
    "    # **************************************************\n",
    "    query = \"SELECT FirstName, LastName FROM Users;\"\n",
    "    cursor.execute(query)\n",
    "    users = cursor.fetchall()\n",
    "    print(users)\n",
    "    # **************************************************\n",
    "\n",
    "    print(\"-\" * 50)\n",
    "\n",
    "    # **************************************************\n",
    "    query = \"SELECT * FROM Users WHERE Age > 27;\"\n",
    "    cursor.execute(query)\n",
    "    users = cursor.fetchall()\n",
    "    print(users)\n",
    "    # **************************************************\n",
    "\n",
    "    print(\"-\" * 50)\n",
    "\n",
    "    # **************************************************\n",
    "    # query = \"SELECT * FROM Users WHERE Age > 27 ORDER BY FirstName;\"\n",
    "    # query = \"SELECT * FROM Users WHERE Age > 27 ORDER BY FirstName ASC;\"\n",
    "    query = \"SELECT * FROM Users WHERE Age > 27 ORDER BY FirstName DESC;\"\n",
    "\n",
    "    cursor.execute(query)\n",
    "    users = cursor.fetchall()\n",
    "    print(users)\n",
    "    # **************************************************\n",
    "\n",
    "    print(\"-\" * 50)\n",
    "\n",
    "    # **************************************************\n",
    "    # query = \"SELECT rowid, Id, FirstName, LastName FROM Users;\"\n",
    "    # query = \"SELECT rowid, * FROM Users;\"\n",
    "    query = \"SELECT rowid, * FROM Users WHERE rowid < 4;\"\n",
    "    cursor.execute(query)\n",
    "    users = cursor.fetchall()\n",
    "    print(users)\n",
    "    # **************************************************\n",
    "except:\n",
    "    pass\n",
    "finally:\n",
    "    if cursor:\n",
    "        cursor.close()\n",
    "\n",
    "    if connection:\n",
    "        connection.close()"
   ]
  },
  {
   "cell_type": "markdown",
   "metadata": {},
   "source": [
    "### Display Verson of SQLite"
   ]
  },
  {
   "cell_type": "code",
   "execution_count": null,
   "metadata": {},
   "outputs": [
    {
     "name": "stdout",
     "output_type": "stream",
     "text": [
      "[('3.45.3',)]\n"
     ]
    }
   ],
   "source": [
    "import sqlite3 as sqlite\n",
    "\n",
    "database_pathfile = \"./data/temp_08.db\"\n",
    "connection = sqlite.connect(database=database_pathfile)\n",
    "cursor = connection.cursor()\n",
    "\n",
    "query = \"SELECT sqlite_version();\"\n",
    "cursor.execute(query)\n",
    "result = cursor.fetchall()\n",
    "print(result)\n",
    "\n",
    "cursor.close()\n",
    "connection.close()"
   ]
  },
  {
   "cell_type": "markdown",
   "metadata": {},
   "source": [
    "### Display List of Tables"
   ]
  },
  {
   "cell_type": "code",
   "execution_count": 31,
   "metadata": {},
   "outputs": [
    {
     "name": "stdout",
     "output_type": "stream",
     "text": [
      "[('Users',)]\n"
     ]
    }
   ],
   "source": [
    "import sqlite3 as sqlite\n",
    "\n",
    "database_pathfile = \"./data/temp_08.db\"\n",
    "connection = sqlite.connect(database=database_pathfile)\n",
    "cursor = connection.cursor()\n",
    "\n",
    "query = \"SELECT name FROM sqlite_master WHERE type='table';\"\n",
    "cursor.execute(query)\n",
    "tables = cursor.fetchall()\n",
    "print(tables)\n",
    "\n",
    "cursor.close()\n",
    "connection.close()"
   ]
  },
  {
   "cell_type": "markdown",
   "metadata": {},
   "source": [
    "### Drop Table"
   ]
  },
  {
   "cell_type": "code",
   "execution_count": 32,
   "metadata": {},
   "outputs": [
    {
     "name": "stdout",
     "output_type": "stream",
     "text": [
      "[('Users',)]\n",
      "[]\n"
     ]
    }
   ],
   "source": [
    "import sqlite3 as sqlite\n",
    "\n",
    "database_pathfile = \"./data/temp_08.db\"\n",
    "connection = sqlite.connect(database=database_pathfile)\n",
    "cursor = connection.cursor()\n",
    "\n",
    "query = \"SELECT name FROM sqlite_master WHERE type='table';\"\n",
    "cursor.execute(query)\n",
    "tables = cursor.fetchall()\n",
    "print(tables)\n",
    "\n",
    "# query = \"DROP TABLE Users\"\n",
    "query = \"DROP TABLE IF EXISTS Users\"\n",
    "cursor.execute(query)\n",
    "connection.commit()\n",
    "\n",
    "query = \"SELECT name FROM sqlite_master WHERE type='table';\"\n",
    "cursor.execute(query)\n",
    "tables = cursor.fetchall()\n",
    "print(tables)\n",
    "\n",
    "cursor.close()\n",
    "connection.close()"
   ]
  }
 ],
 "metadata": {
  "kernelspec": {
   "display_name": ".venv",
   "language": "python",
   "name": "python3"
  },
  "language_info": {
   "codemirror_mode": {
    "name": "ipython",
    "version": 3
   },
   "file_extension": ".py",
   "mimetype": "text/x-python",
   "name": "python",
   "nbconvert_exporter": "python",
   "pygments_lexer": "ipython3",
   "version": "3.12.9"
  }
 },
 "nbformat": 4,
 "nbformat_minor": 2
}
